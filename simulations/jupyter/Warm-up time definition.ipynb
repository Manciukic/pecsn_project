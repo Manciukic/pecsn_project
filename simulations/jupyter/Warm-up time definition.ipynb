{
 "cells": [
  {
   "cell_type": "code",
   "execution_count": 1,
   "metadata": {
    "ExecuteTime": {
     "end_time": "2020-01-14T08:14:01.283134Z",
     "start_time": "2020-01-14T08:14:00.494512Z"
    }
   },
   "outputs": [],
   "source": [
    "import pandas as pd\n",
    "import numpy as np\n",
    "import matplotlib.pyplot as plt\n",
    "\n",
    "import os\n",
    "\n",
    "import logging as log\n",
    "\n",
    "%matplotlib inline"
   ]
  },
  {
   "cell_type": "code",
   "execution_count": 2,
   "metadata": {
    "ExecuteTime": {
     "end_time": "2020-01-14T08:14:01.290011Z",
     "start_time": "2020-01-14T08:14:01.286021Z"
    }
   },
   "outputs": [],
   "source": [
    "log.getLogger().setLevel(20)"
   ]
  },
  {
   "cell_type": "code",
   "execution_count": 3,
   "metadata": {
    "ExecuteTime": {
     "end_time": "2020-01-14T08:14:01.298652Z",
     "start_time": "2020-01-14T08:14:01.292641Z"
    }
   },
   "outputs": [],
   "source": [
    "all_params = {}\n",
    "all_runs = None\n",
    "\n",
    "def get_params(run):\n",
    "    result = {}\n",
    "    params = ds[ds.type == \"param\"]\n",
    "    for index, row in params[params.run == run].iterrows():\n",
    "        # Try conversion. If fail, store string\n",
    "        try:\n",
    "            result[row.attrname] = float(row.attrvalue)\n",
    "        except ValueError:\n",
    "            result[row.attrname] = row.attrvalue\n",
    "    return result\n",
    "\n",
    "def build_params(ds):\n",
    "    global all_params, all_runs\n",
    "    \n",
    "    all_params = {}\n",
    "    all_runs = ds.run.unique()\n",
    "    for run in all_runs:       \n",
    "        all_params[run] = get_params(run)"
   ]
  },
  {
   "cell_type": "code",
   "execution_count": 4,
   "metadata": {
    "ExecuteTime": {
     "end_time": "2020-01-14T08:14:53.566227Z",
     "start_time": "2020-01-14T08:14:01.302335Z"
    }
   },
   "outputs": [],
   "source": [
    "run = \"WarmUp*\"\n",
    "os.system(f\"scavetool x ../results/{run}.sca ../results/{run}.vec -o /tmp/measurements.csv\")\n",
    "ds = pd.read_csv(\"/tmp/measurements.csv\")\n",
    "build_params(ds)"
   ]
  },
  {
   "cell_type": "code",
   "execution_count": 5,
   "metadata": {
    "ExecuteTime": {
     "end_time": "2020-01-14T08:14:53.578800Z",
     "start_time": "2020-01-14T08:14:53.569673Z"
    }
   },
   "outputs": [],
   "source": [
    "def find_runs(**params):\n",
    "    global ds\n",
    "    \n",
    "    result = []\n",
    "    \n",
    "    for run in all_runs:       \n",
    "        run_params = all_params[run]\n",
    "                \n",
    "        for name, value in params.items():\n",
    "            if type(value) is str:\n",
    "                check_value = '\"'+value+'\"'\n",
    "            else:\n",
    "                check_value = value\n",
    "                \n",
    "            if name not in run_params or run_params[name] != check_value:\n",
    "                log.debug(f\"{run_params} fails {name}, expected {check_value}, found {run_params[name] if name in run_params else 'None'}\")\n",
    "                break\n",
    "        else: # loop was not interrupted \n",
    "            result.append(run)\n",
    "                \n",
    "    return result\n",
    "                          \n",
    "def find_run(**params):\n",
    "    result = find_runs(**params)\n",
    "    if len(result) == 0:\n",
    "        log.warning(\"No run found\")\n",
    "        return None\n",
    "    elif len(result) > 1:\n",
    "        log.warning(\"Provided parameters match multiple runs.\")\n",
    "    \n",
    "    return result[0]\n",
    "   "
   ]
  },
  {
   "cell_type": "code",
   "execution_count": 6,
   "metadata": {
    "ExecuteTime": {
     "end_time": "2020-01-14T08:14:53.610047Z",
     "start_time": "2020-01-14T08:14:53.587056Z"
    }
   },
   "outputs": [],
   "source": [
    "def get_scalar(run, module, name):\n",
    "    strvalue = ds[(ds.type == \"scalar\") & (ds.run == run) & (ds.name == name) & (ds.module == module)].iloc[0].value\n",
    "    try:\n",
    "        return float(strvalue)\n",
    "    except ValueError:\n",
    "        log.warning(\"Scalar is not a number: \" + strvalue)\n",
    "        return strvalue\n",
    "\n",
    "def get_avg_rt(run, vip, compound):\n",
    "    if run is None:\n",
    "        log.error(\"Provided run is None\")\n",
    "        return None\n",
    "                          \n",
    "    name = \"\"\n",
    "    if compound:\n",
    "        name += \"compound\"\n",
    "    else:\n",
    "        name += \"simple\"\n",
    "\n",
    "    if vip:\n",
    "        name += \"Vip\"\n",
    "    else:\n",
    "        name += \"Normal\"\n",
    "\n",
    "    name += \"ResponseTime:mean\"\n",
    "    \n",
    "    module = \"Network.exit\"\n",
    "                          \n",
    "    return get_scalar(run, module, name)\n",
    "\n",
    "def get_avg_wt(run, module, vip):\n",
    "    if run is None:\n",
    "        log.error(\"Provided run is None\")\n",
    "        return None\n",
    "                          \n",
    "    name = \"\"\n",
    "\n",
    "    if vip:\n",
    "        name += \"vip\"\n",
    "    else:\n",
    "        name += \"normal\"\n",
    "\n",
    "    name += \"WaitingTime:mean\"\n",
    "    \n",
    "    return get_scalar(run, module, name)\n",
    "\n",
    "def get_avg_nq(run, module, vip = False, fifo = False):\n",
    "    if run is None:\n",
    "        log.error(\"Provided run is None\")\n",
    "        return None\n",
    "                          \n",
    "    name = \"\"\n",
    "\n",
    "    if fifo:\n",
    "        name += \"fifo\"\n",
    "    elif vip:\n",
    "        name += \"vip\"\n",
    "    else:\n",
    "        name += \"normal\"\n",
    "\n",
    "    name += \"QueueLength:timeavg\"\n",
    "    \n",
    "    return get_scalar(run, module, name)\n",
    "          "
   ]
  },
  {
   "cell_type": "code",
   "execution_count": 7,
   "metadata": {
    "ExecuteTime": {
     "end_time": "2020-01-14T08:14:53.632651Z",
     "start_time": "2020-01-14T08:14:53.613404Z"
    }
   },
   "outputs": [],
   "source": [
    "def get_vecvalue(run, module, name):\n",
    "    try:\n",
    "        return np.fromstring(ds[(ds.type == \"vector\") & (ds.run == run) & (ds.name == name) & (ds.module == module)].iloc[0].vecvalue, \n",
    "                             sep=\" \", dtype=np.double)\n",
    "    except Exception:\n",
    "        log.warning(\"No vector found\")\n",
    "        return np.array([])\n",
    "    \n",
    "def get_vectime(run, module, name):\n",
    "    try:\n",
    "        return np.fromstring(ds[(ds.type == \"vector\") & (ds.run == run) & (ds.name == name) & (ds.module == module)].iloc[0].vectime, \n",
    "                             sep=\" \", dtype=np.double)\n",
    "    except Exception:\n",
    "        log.warning(\"No vector found\")\n",
    "        return np.array([])\n",
    "\n",
    "def get_rt(run, vip, compound):\n",
    "    if run is None:\n",
    "        log.error(\"Provided run is None\")\n",
    "        return None\n",
    "                          \n",
    "    name = \"\"\n",
    "    if compound:\n",
    "        name += \"compound\"\n",
    "    else:\n",
    "        name += \"simple\"\n",
    "\n",
    "    if vip:\n",
    "        name += \"Vip\"\n",
    "    else:\n",
    "        name += \"Normal\"\n",
    "\n",
    "    name += \"ResponseTime:vector\"\n",
    "    \n",
    "    module = \"Network.exit\"\n",
    "                          \n",
    "    return get_vecvalue(run, module, name)\n",
    "\n",
    "def get_rt_time(run, vip, compound):\n",
    "    if run is None:\n",
    "        log.error(\"Provided run is None\")\n",
    "        return None\n",
    "                          \n",
    "    name = \"\"\n",
    "    if compound:\n",
    "        name += \"compound\"\n",
    "    else:\n",
    "        name += \"simple\"\n",
    "\n",
    "    if vip:\n",
    "        name += \"Vip\"\n",
    "    else:\n",
    "        name += \"Normal\"\n",
    "\n",
    "    name += \"ResponseTime:vector\"\n",
    "    \n",
    "    module = \"Network.exit\"\n",
    "                          \n",
    "    return get_vectime(run, module, name)\n",
    "\n",
    "def get_wt(run, module, vip):\n",
    "    if run is None:\n",
    "        log.error(\"Provided run is None\")\n",
    "        return None\n",
    "                          \n",
    "    name = \"\"\n",
    "\n",
    "    if vip:\n",
    "        name += \"vip\"\n",
    "    else:\n",
    "        name += \"normal\"\n",
    "\n",
    "    name += \"WaitingTime:vector\"\n",
    "    \n",
    "    return get_vecvalue(run, module, name)\n",
    "\n",
    "def get_wt_time(run, module, vip):\n",
    "    if run is None:\n",
    "        log.error(\"Provided run is None\")\n",
    "        return None\n",
    "                          \n",
    "    name = \"\"\n",
    "\n",
    "    if vip:\n",
    "        name += \"vip\"\n",
    "    else:\n",
    "        name += \"normal\"\n",
    "\n",
    "    name += \"WaitingTime:vector\"\n",
    "    \n",
    "    return get_vectime(run, module, name)"
   ]
  },
  {
   "cell_type": "code",
   "execution_count": 8,
   "metadata": {
    "ExecuteTime": {
     "end_time": "2020-01-14T08:14:53.640660Z",
     "start_time": "2020-01-14T08:14:53.635136Z"
    }
   },
   "outputs": [],
   "source": [
    "def hol_wait_time(vip, normArrivalRate, vipArrivalRate, serviceRate):\n",
    "    if not vip:\n",
    "        return ((normArrivalRate + vipArrivalRate)/((serviceRate-vipArrivalRate)*(serviceRate-normArrivalRate-vipArrivalRate)))\n",
    "    else:\n",
    "        return ((normArrivalRate + vipArrivalRate)/(serviceRate*(serviceRate-vipArrivalRate)))\n",
    "    \n",
    "def hol_resp_time(vip, normArrivalRate, vipArrivalRate, serviceRate):\n",
    "    return hol_wait_time(vip, normArrivalRate, vipArrivalRate, serviceRate) + 1 / serviceRate"
   ]
  },
  {
   "cell_type": "code",
   "execution_count": 9,
   "metadata": {
    "ExecuteTime": {
     "end_time": "2020-01-14T08:14:53.648122Z",
     "start_time": "2020-01-14T08:14:53.643093Z"
    }
   },
   "outputs": [],
   "source": [
    "def mm1_resp_time(arrivalRate, serviceRate):\n",
    "    return 1/(serviceRate - arrivalRate)\n",
    "\n",
    "def mm1_wait_time(arrivalRate, serviceRate):\n",
    "    return mm1_resp_time(arrivalRate, serviceRate) - 1/serviceRate\n",
    "\n",
    "def mm1_queue_length(arrivalRate, serviceRate):\n",
    "    rho = arrivalRate/serviceRate\n",
    "    return rho/(1-rho)-rho"
   ]
  },
  {
   "cell_type": "code",
   "execution_count": 10,
   "metadata": {
    "ExecuteTime": {
     "end_time": "2020-01-14T08:14:53.656629Z",
     "start_time": "2020-01-14T08:14:53.650879Z"
    }
   },
   "outputs": [],
   "source": [
    "def moving_average(a, n=3) :\n",
    "    ret = np.cumsum(a, dtype=float)\n",
    "    ret[n:] = ret[n:] - ret[:-n]\n",
    "    ret[n-1:] = ret[n - 1:] / n\n",
    "    ret[:n-1] = ret[:n-1] / np.arange(1,n)\n",
    "    return ret"
   ]
  },
  {
   "cell_type": "code",
   "execution_count": 15,
   "metadata": {
    "ExecuteTime": {
     "end_time": "2020-01-14T08:19:12.461077Z",
     "start_time": "2020-01-14T08:19:07.507544Z"
    }
   },
   "outputs": [
    {
     "data": {
      "image/png": "[encoded data removed]",
      "text/plain": [
       "<Figure size 288x252 with 1 Axes>"
      ]
     },
     "metadata": {
      "needs_background": "light"
     },
     "output_type": "display_data"
    }
   ],
   "source": [
    "runs = find_runs()\n",
    "fig = plt.figure(figsize=(4,3.5))\n",
    "for run in runs:\n",
    "    args = [run, False, False]\n",
    "    raw = get_rt(*args)\n",
    "    y = moving_average(raw, n=len(raw)//25)\n",
    "    x = get_rt_time(*args)\n",
    "    t = 100000\n",
    "    plt.plot(x[x<t],y[x<t])\n",
    "plt.grid(True, 'both')\n",
    "plt.xlabel(\"Simulation time (m)\")\n",
    "plt.ylabel(\"Mean response time (m)\")\n",
    "plt.savefig('/tmp/fig.pdf', bbox_inches='tight')"
   ]
  },
  {
   "cell_type": "code",
   "execution_count": 18,
   "metadata": {
    "ExecuteTime": {
     "end_time": "2020-01-14T09:49:51.130265Z",
     "start_time": "2020-01-14T09:49:50.771259Z"
    }
   },
   "outputs": [
    {
     "data": {
      "text/plain": [
       "<BarContainer object of 18 artists>"
      ]
     },
     "execution_count": 18,
     "metadata": {},
     "output_type": "execute_result"
    },
    {
     "data": {
      "image/png": "[encoded data removed]",
      "text/plain": [
       "<Figure size 432x288 with 1 Axes>"
      ]
     },
     "metadata": {
      "needs_background": "light"
     },
     "output_type": "display_data"
    }
   ],
   "source": []
  },
  {
   "cell_type": "code",
   "execution_count": null,
   "metadata": {},
   "outputs": [],
   "source": []
  }
 ],
 "metadata": {
  "kernelspec": {
   "display_name": "Python 3",
   "language": "python",
   "name": "python3"
  },
  "language_info": {
   "codemirror_mode": {
    "name": "ipython",
    "version": 3
   },
   "file_extension": ".py",
   "mimetype": "text/x-python",
   "name": "python",
   "nbconvert_exporter": "python",
   "pygments_lexer": "ipython3",
   "version": "3.7.5"
  }
 },
 "nbformat": 4,
 "nbformat_minor": 2
}
