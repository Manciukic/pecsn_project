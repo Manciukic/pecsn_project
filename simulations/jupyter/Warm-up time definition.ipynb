{
 "cells": [
  {
   "cell_type": "code",
   "execution_count": 1,
   "metadata": {
    "ExecuteTime": {
     "end_time": "2020-01-09T22:24:16.118021Z",
     "start_time": "2020-01-09T22:24:15.527179Z"
    }
   },
   "outputs": [],
   "source": [
    "import pandas as pd\n",
    "import numpy as np\n",
    "import matplotlib.pyplot as plt\n",
    "\n",
    "import os\n",
    "\n",
    "import logging as log\n",
    "\n",
    "%matplotlib inline"
   ]
  },
  {
   "cell_type": "code",
   "execution_count": 2,
   "metadata": {
    "ExecuteTime": {
     "end_time": "2020-01-09T22:24:16.124500Z",
     "start_time": "2020-01-09T22:24:16.120783Z"
    }
   },
   "outputs": [],
   "source": [
    "log.getLogger().setLevel(20)"
   ]
  },
  {
   "cell_type": "code",
   "execution_count": 3,
   "metadata": {
    "ExecuteTime": {
     "end_time": "2020-01-09T22:24:16.134037Z",
     "start_time": "2020-01-09T22:24:16.126948Z"
    }
   },
   "outputs": [],
   "source": [
    "all_params = {}\n",
    "all_runs = None\n",
    "\n",
    "def get_params(run):\n",
    "    result = {}\n",
    "    params = ds[ds.type == \"param\"]\n",
    "    for index, row in params[params.run == run].iterrows():\n",
    "        # Try conversion. If fail, store string\n",
    "        try:\n",
    "            result[row.attrname] = float(row.attrvalue)\n",
    "        except ValueError:\n",
    "            result[row.attrname] = row.attrvalue\n",
    "    return result\n",
    "\n",
    "def build_params(ds):\n",
    "    global all_params, all_runs\n",
    "    \n",
    "    all_params = {}\n",
    "    all_runs = ds.run.unique()\n",
    "    for run in all_runs:       \n",
    "        all_params[run] = get_params(run)"
   ]
  },
  {
   "cell_type": "code",
   "execution_count": 4,
   "metadata": {
    "ExecuteTime": {
     "end_time": "2020-01-09T22:24:57.191417Z",
     "start_time": "2020-01-09T22:24:16.138103Z"
    }
   },
   "outputs": [],
   "source": [
    "run = \"WarmUp*\"\n",
    "os.system(f\"scavetool x ../results/{run}.sca ../results/{run}.vec -o /tmp/measurements.csv\")\n",
    "ds = pd.read_csv(\"/tmp/measurements.csv\")\n",
    "build_params(ds)"
   ]
  },
  {
   "cell_type": "code",
   "execution_count": 5,
   "metadata": {
    "ExecuteTime": {
     "end_time": "2020-01-09T22:24:57.203909Z",
     "start_time": "2020-01-09T22:24:57.193875Z"
    }
   },
   "outputs": [],
   "source": [
    "def find_runs(**params):\n",
    "    global ds\n",
    "    \n",
    "    result = []\n",
    "    \n",
    "    for run in all_runs:       \n",
    "        run_params = all_params[run]\n",
    "                \n",
    "        for name, value in params.items():\n",
    "            if type(value) is str:\n",
    "                check_value = '\"'+value+'\"'\n",
    "            else:\n",
    "                check_value = value\n",
    "                \n",
    "            if name not in run_params or run_params[name] != check_value:\n",
    "                log.debug(f\"{run_params} fails {name}, expected {check_value}, found {run_params[name] if name in run_params else 'None'}\")\n",
    "                break\n",
    "        else: # loop was not interrupted \n",
    "            result.append(run)\n",
    "                \n",
    "    return result\n",
    "                          \n",
    "def find_run(**params):\n",
    "    result = find_runs(**params)\n",
    "    if len(result) == 0:\n",
    "        log.warning(\"No run found\")\n",
    "        return None\n",
    "    elif len(result) > 1:\n",
    "        log.warning(\"Provided parameters match multiple runs.\")\n",
    "    \n",
    "    return result[0]\n",
    "   "
   ]
  },
  {
   "cell_type": "code",
   "execution_count": 6,
   "metadata": {
    "ExecuteTime": {
     "end_time": "2020-01-09T22:24:57.219885Z",
     "start_time": "2020-01-09T22:24:57.206567Z"
    }
   },
   "outputs": [],
   "source": [
    "def get_scalar(run, module, name):\n",
    "    strvalue = ds[(ds.type == \"scalar\") & (ds.run == run) & (ds.name == name) & (ds.module == module)].iloc[0].value\n",
    "    try:\n",
    "        return float(strvalue)\n",
    "    except ValueError:\n",
    "        log.warning(\"Scalar is not a number: \" + strvalue)\n",
    "        return strvalue\n",
    "\n",
    "def get_avg_rt(run, vip, compound):\n",
    "    if run is None:\n",
    "        log.error(\"Provided run is None\")\n",
    "        return None\n",
    "                          \n",
    "    name = \"\"\n",
    "    if compound:\n",
    "        name += \"compound\"\n",
    "    else:\n",
    "        name += \"simple\"\n",
    "\n",
    "    if vip:\n",
    "        name += \"Vip\"\n",
    "    else:\n",
    "        name += \"Normal\"\n",
    "\n",
    "    name += \"ResponseTime:mean\"\n",
    "    \n",
    "    module = \"Network.exit\"\n",
    "                          \n",
    "    return get_scalar(run, module, name)\n",
    "\n",
    "def get_avg_wt(run, module, vip):\n",
    "    if run is None:\n",
    "        log.error(\"Provided run is None\")\n",
    "        return None\n",
    "                          \n",
    "    name = \"\"\n",
    "\n",
    "    if vip:\n",
    "        name += \"vip\"\n",
    "    else:\n",
    "        name += \"normal\"\n",
    "\n",
    "    name += \"WaitingTime:mean\"\n",
    "    \n",
    "    return get_scalar(run, module, name)\n",
    "\n",
    "def get_avg_nq(run, module, vip = False, fifo = False):\n",
    "    if run is None:\n",
    "        log.error(\"Provided run is None\")\n",
    "        return None\n",
    "                          \n",
    "    name = \"\"\n",
    "\n",
    "    if fifo:\n",
    "        name += \"fifo\"\n",
    "    elif vip:\n",
    "        name += \"vip\"\n",
    "    else:\n",
    "        name += \"normal\"\n",
    "\n",
    "    name += \"QueueLength:timeavg\"\n",
    "    \n",
    "    return get_scalar(run, module, name)\n",
    "          "
   ]
  },
  {
   "cell_type": "code",
   "execution_count": 7,
   "metadata": {
    "ExecuteTime": {
     "end_time": "2020-01-09T22:24:57.237845Z",
     "start_time": "2020-01-09T22:24:57.222539Z"
    }
   },
   "outputs": [],
   "source": [
    "def get_vecvalue(run, module, name):\n",
    "    try:\n",
    "        return np.fromstring(ds[(ds.type == \"vector\") & (ds.run == run) & (ds.name == name) & (ds.module == module)].iloc[0].vecvalue, \n",
    "                             sep=\" \", dtype=np.double)\n",
    "    except Exception:\n",
    "        log.warning(\"No vector found\")\n",
    "        return np.array([])\n",
    "    \n",
    "def get_vectime(run, module, name):\n",
    "    try:\n",
    "        return np.fromstring(ds[(ds.type == \"vector\") & (ds.run == run) & (ds.name == name) & (ds.module == module)].iloc[0].vectime, \n",
    "                             sep=\" \", dtype=np.double)\n",
    "    except Exception:\n",
    "        log.warning(\"No vector found\")\n",
    "        return np.array([])\n",
    "\n",
    "def get_rt(run, vip, compound):\n",
    "    if run is None:\n",
    "        log.error(\"Provided run is None\")\n",
    "        return None\n",
    "                          \n",
    "    name = \"\"\n",
    "    if compound:\n",
    "        name += \"compound\"\n",
    "    else:\n",
    "        name += \"simple\"\n",
    "\n",
    "    if vip:\n",
    "        name += \"Vip\"\n",
    "    else:\n",
    "        name += \"Normal\"\n",
    "\n",
    "    name += \"ResponseTime:vector\"\n",
    "    \n",
    "    module = \"Network.exit\"\n",
    "                          \n",
    "    return get_vecvalue(run, module, name)\n",
    "\n",
    "def get_rt_time(run, vip, compound):\n",
    "    if run is None:\n",
    "        log.error(\"Provided run is None\")\n",
    "        return None\n",
    "                          \n",
    "    name = \"\"\n",
    "    if compound:\n",
    "        name += \"compound\"\n",
    "    else:\n",
    "        name += \"simple\"\n",
    "\n",
    "    if vip:\n",
    "        name += \"Vip\"\n",
    "    else:\n",
    "        name += \"Normal\"\n",
    "\n",
    "    name += \"ResponseTime:vector\"\n",
    "    \n",
    "    module = \"Network.exit\"\n",
    "                          \n",
    "    return get_vectime(run, module, name)\n",
    "\n",
    "def get_wt(run, module, vip):\n",
    "    if run is None:\n",
    "        log.error(\"Provided run is None\")\n",
    "        return None\n",
    "                          \n",
    "    name = \"\"\n",
    "\n",
    "    if vip:\n",
    "        name += \"vip\"\n",
    "    else:\n",
    "        name += \"normal\"\n",
    "\n",
    "    name += \"WaitingTime:vector\"\n",
    "    \n",
    "    return get_vecvalue(run, module, name)\n",
    "\n",
    "def get_wt_time(run, module, vip):\n",
    "    if run is None:\n",
    "        log.error(\"Provided run is None\")\n",
    "        return None\n",
    "                          \n",
    "    name = \"\"\n",
    "\n",
    "    if vip:\n",
    "        name += \"vip\"\n",
    "    else:\n",
    "        name += \"normal\"\n",
    "\n",
    "    name += \"WaitingTime:vector\"\n",
    "    \n",
    "    return get_vectime(run, module, name)"
   ]
  },
  {
   "cell_type": "code",
   "execution_count": 8,
   "metadata": {
    "ExecuteTime": {
     "end_time": "2020-01-09T22:24:57.246075Z",
     "start_time": "2020-01-09T22:24:57.239954Z"
    }
   },
   "outputs": [],
   "source": [
    "def hol_wait_time(vip, normArrivalRate, vipArrivalRate, serviceRate):\n",
    "    if not vip:\n",
    "        return ((normArrivalRate + vipArrivalRate)/((serviceRate-vipArrivalRate)*(serviceRate-normArrivalRate-vipArrivalRate)))\n",
    "    else:\n",
    "        return ((normArrivalRate + vipArrivalRate)/(serviceRate*(serviceRate-vipArrivalRate)))\n",
    "    \n",
    "def hol_resp_time(vip, normArrivalRate, vipArrivalRate, serviceRate):\n",
    "    return hol_wait_time(vip, normArrivalRate, vipArrivalRate, serviceRate) + 1 / serviceRate"
   ]
  },
  {
   "cell_type": "code",
   "execution_count": 9,
   "metadata": {
    "ExecuteTime": {
     "end_time": "2020-01-09T22:24:57.253429Z",
     "start_time": "2020-01-09T22:24:57.249393Z"
    }
   },
   "outputs": [],
   "source": [
    "def mm1_resp_time(arrivalRate, serviceRate):\n",
    "    return 1/(serviceRate - arrivalRate)\n",
    "\n",
    "def mm1_wait_time(arrivalRate, serviceRate):\n",
    "    return mm1_resp_time(arrivalRate, serviceRate) - 1/serviceRate\n",
    "\n",
    "def mm1_queue_length(arrivalRate, serviceRate):\n",
    "    rho = arrivalRate/serviceRate\n",
    "    return rho/(1-rho)-rho"
   ]
  },
  {
   "cell_type": "code",
   "execution_count": 10,
   "metadata": {
    "ExecuteTime": {
     "end_time": "2020-01-09T22:24:57.260383Z",
     "start_time": "2020-01-09T22:24:57.255334Z"
    }
   },
   "outputs": [],
   "source": [
    "def moving_average(a, n=3) :\n",
    "    ret = np.cumsum(a, dtype=float)\n",
    "    ret[n:] = ret[n:] - ret[:-n]\n",
    "    ret[n-1:] = ret[n - 1:] / n\n",
    "    ret[:n-1] = ret[:n-1] / np.arange(1,n)\n",
    "    return ret"
   ]
  },
  {
   "cell_type": "code",
   "execution_count": 11,
   "metadata": {
    "ExecuteTime": {
     "end_time": "2020-01-09T22:24:58.363952Z",
     "start_time": "2020-01-09T22:24:57.262131Z"
    }
   },
   "outputs": [
    {
     "name": "stdout",
     "output_type": "stream",
     "text": [
      "0 27159 26.200045972745393 26.340991883527334\n",
      "0 27379 26.17267537361767 25.93724575006265\n",
      "0 27008 25.41135426411588 23.366395625485005\n",
      "0 27142 27.040761409505215 25.60154930539033\n",
      "0 26987 25.76183900665629 24.18626077543586\n",
      "0 26918 27.06612598759203 26.582585262264185\n",
      "0 26904 26.221645035627052 25.18998459859906\n",
      "0 27278 26.427282555751358 26.52816012716467\n",
      "0 27019 25.322868426259486 23.17143954583499\n",
      "0 27223 26.771755131418473 25.451290242735467\n"
     ]
    },
    {
     "data": {
      "image/png": "[encoded data removed]",
      "text/plain": [
       "<Figure size 432x288 with 1 Axes>"
      ]
     },
     "metadata": {
      "needs_background": "light"
     },
     "output_type": "display_data"
    }
   ],
   "source": [
    "runs = find_runs()\n",
    "avgs = []\n",
    "stds = []\n",
    "for run in find_runs():\n",
    "    args = [run, True, True]\n",
    "    raw = get_rt(*args)\n",
    "    y = moving_average(raw, n=10000)\n",
    "#     y = np.cumsum(raw) / np.arange(1, raw.size+1)\n",
    "#     y = raw\n",
    "    x = get_rt_time(*args)\n",
    "    n = 100000\n",
    "#     plt.plot(x[x>=50000][:n],y[x>=50000][:n])\n",
    "    plt.plot(x[:n],y[:n])\n",
    "    wu = 50000\n",
    "    plt.axvline(wu)\n",
    "    \n",
    "    avg = np.mean(raw[x>=wu])\n",
    "    std = np.std(raw[x>=wu])\n",
    "    \n",
    "    print(x[x<wu].size, x[x>=wu].size, avg, std)\n"
   ]
  }
 ],
 "metadata": {
  "kernelspec": {
   "display_name": "Python 3",
   "language": "python",
   "name": "python3"
  },
  "language_info": {
   "codemirror_mode": {
    "name": "ipython",
    "version": 3
   },
   "file_extension": ".py",
   "mimetype": "text/x-python",
   "name": "python",
   "nbconvert_exporter": "python",
   "pygments_lexer": "ipython3",
   "version": "3.7.5"
  }
 },
 "nbformat": 4,
 "nbformat_minor": 2
}
