{
 "cells": [
  {
   "cell_type": "code",
   "execution_count": 1,
   "metadata": {
    "ExecuteTime": {
     "end_time": "2020-01-10T17:21:37.468305Z",
     "start_time": "2020-01-10T17:21:36.933920Z"
    }
   },
   "outputs": [],
   "source": [
    "import pandas as pd\n",
    "import numpy as np\n",
    "import matplotlib.pyplot as plt\n",
    "\n",
    "import os\n",
    "\n",
    "import logging as log\n",
    "\n",
    "%matplotlib inline"
   ]
  },
  {
   "cell_type": "code",
   "execution_count": 2,
   "metadata": {
    "ExecuteTime": {
     "end_time": "2020-01-10T17:21:37.474300Z",
     "start_time": "2020-01-10T17:21:37.470528Z"
    }
   },
   "outputs": [],
   "source": [
    "log.getLogger().setLevel(20)"
   ]
  },
  {
   "cell_type": "code",
   "execution_count": 3,
   "metadata": {
    "ExecuteTime": {
     "end_time": "2020-01-10T17:21:37.494686Z",
     "start_time": "2020-01-10T17:21:37.477408Z"
    }
   },
   "outputs": [],
   "source": [
    "all_params = {}\n",
    "all_runs = None\n",
    "\n",
    "def get_params(run):\n",
    "    result = {}\n",
    "    params = ds[ds.type == \"param\"]\n",
    "    for index, row in params[params.run == run].iterrows():\n",
    "        # Try conversion. If fail, store string\n",
    "        try:\n",
    "            result[row.attrname] = float(row.attrvalue)\n",
    "        except ValueError:\n",
    "            result[row.attrname] = row.attrvalue\n",
    "    return result\n",
    "\n",
    "def build_params(ds):\n",
    "    global all_params, all_runs\n",
    "    \n",
    "    all_params = {}\n",
    "    all_runs = ds.run.unique()\n",
    "    for run in all_runs:       \n",
    "        all_params[run] = get_params(run)"
   ]
  },
  {
   "cell_type": "code",
   "execution_count": 4,
   "metadata": {
    "ExecuteTime": {
     "end_time": "2020-01-10T17:22:33.105023Z",
     "start_time": "2020-01-10T17:21:37.497586Z"
    }
   },
   "outputs": [],
   "source": [
    "run = \"StarvingCheck*\"\n",
    "os.system(f\"scavetool x ../results/{run}.sca ../results/{run}.vec -o /tmp/measurements.csv\")\n",
    "ds = pd.read_csv(\"/tmp/measurements.csv\")\n",
    "build_params(ds)"
   ]
  },
  {
   "cell_type": "code",
   "execution_count": 5,
   "metadata": {
    "ExecuteTime": {
     "end_time": "2020-01-10T17:22:33.115953Z",
     "start_time": "2020-01-10T17:22:33.107584Z"
    }
   },
   "outputs": [],
   "source": [
    "def find_runs(**params):\n",
    "    global ds\n",
    "    \n",
    "    result = []\n",
    "    \n",
    "    for run in all_runs:       \n",
    "        run_params = all_params[run]\n",
    "                \n",
    "        for name, value in params.items():\n",
    "            if type(value) is str:\n",
    "                check_value = '\"'+value+'\"'\n",
    "            else:\n",
    "                check_value = value\n",
    "                \n",
    "            if name not in run_params or run_params[name] != check_value:\n",
    "                log.debug(f\"{run_params} fails {name}, expected {check_value}, found {run_params[name] if name in run_params else 'None'}\")\n",
    "                break\n",
    "        else: # loop was not interrupted \n",
    "            result.append(run)\n",
    "                \n",
    "    return result\n",
    "                          \n",
    "def find_run(**params):\n",
    "    result = find_runs(**params)\n",
    "    if len(result) == 0:\n",
    "        log.warning(\"No run found\")\n",
    "        return None\n",
    "    elif len(result) > 1:\n",
    "        log.warning(\"Provided parameters match multiple runs.\")\n",
    "    \n",
    "    return result[0]\n",
    "   "
   ]
  },
  {
   "cell_type": "code",
   "execution_count": 6,
   "metadata": {
    "ExecuteTime": {
     "end_time": "2020-01-10T17:22:33.140145Z",
     "start_time": "2020-01-10T17:22:33.118393Z"
    }
   },
   "outputs": [],
   "source": [
    "def get_scalar(run, module, name):\n",
    "    strvalue = ds[(ds.type == \"scalar\") & (ds.run == run) & (ds.name == name) & (ds.module == module)].iloc[0].value\n",
    "    try:\n",
    "        return float(strvalue)\n",
    "    except ValueError:\n",
    "        log.warning(\"Scalar is not a number: \" + strvalue)\n",
    "        return strvalue\n",
    "\n",
    "def get_avg_rt(run, vip, compound):\n",
    "    if run is None:\n",
    "        log.error(\"Provided run is None\")\n",
    "        return None\n",
    "                          \n",
    "    name = \"\"\n",
    "    if compound:\n",
    "        name += \"compound\"\n",
    "    else:\n",
    "        name += \"simple\"\n",
    "\n",
    "    if vip:\n",
    "        name += \"Vip\"\n",
    "    else:\n",
    "        name += \"Normal\"\n",
    "\n",
    "    name += \"ResponseTime:mean\"\n",
    "    \n",
    "    module = \"Network.exit\"\n",
    "                          \n",
    "    return get_scalar(run, module, name)\n",
    "\n",
    "def get_avg_wt(run, module, vip):\n",
    "    if run is None:\n",
    "        log.error(\"Provided run is None\")\n",
    "        return None\n",
    "                          \n",
    "    name = \"\"\n",
    "\n",
    "    if vip:\n",
    "        name += \"vip\"\n",
    "    else:\n",
    "        name += \"normal\"\n",
    "\n",
    "    name += \"WaitingTime:mean\"\n",
    "    \n",
    "    return get_scalar(run, module, name)\n",
    "\n",
    "def get_avg_nq(run, module, vip = False, fifo = False):\n",
    "    if run is None:\n",
    "        log.error(\"Provided run is None\")\n",
    "        return None\n",
    "                          \n",
    "    name = \"\"\n",
    "\n",
    "    if fifo:\n",
    "        name += \"fifo\"\n",
    "    elif vip:\n",
    "        name += \"vip\"\n",
    "    else:\n",
    "        name += \"normal\"\n",
    "\n",
    "    name += \"QueueLength:timeavg\"\n",
    "    \n",
    "    return get_scalar(run, module, name)\n",
    "          "
   ]
  },
  {
   "cell_type": "code",
   "execution_count": 7,
   "metadata": {
    "ExecuteTime": {
     "end_time": "2020-01-10T17:22:33.161031Z",
     "start_time": "2020-01-10T17:22:33.142056Z"
    }
   },
   "outputs": [],
   "source": [
    "def get_vecvalue(run, module, name):\n",
    "    try:\n",
    "        return np.fromstring(ds[(ds.type == \"vector\") & (ds.run == run) & (ds.name == name) & (ds.module == module)].iloc[0].vecvalue, \n",
    "                             sep=\" \", dtype=np.double)\n",
    "    except Exception:\n",
    "        log.warning(\"No vector found\")\n",
    "        return np.array([])\n",
    "    \n",
    "def get_vectime(run, module, name):\n",
    "    try:\n",
    "        return np.fromstring(ds[(ds.type == \"vector\") & (ds.run == run) & (ds.name == name) & (ds.module == module)].iloc[0].vectime, \n",
    "                             sep=\" \", dtype=np.double)\n",
    "    except Exception:\n",
    "        log.warning(\"No vector found\")\n",
    "        return np.array([])\n",
    "\n",
    "def get_rt(run, vip, compound):\n",
    "    if run is None:\n",
    "        log.error(\"Provided run is None\")\n",
    "        return None\n",
    "                          \n",
    "    name = \"\"\n",
    "    if compound:\n",
    "        name += \"compound\"\n",
    "    else:\n",
    "        name += \"simple\"\n",
    "\n",
    "    if vip:\n",
    "        name += \"Vip\"\n",
    "    else:\n",
    "        name += \"Normal\"\n",
    "\n",
    "    name += \"ResponseTime:vector\"\n",
    "    \n",
    "    module = \"Network.exit\"\n",
    "                          \n",
    "    return get_vecvalue(run, module, name)\n",
    "\n",
    "def get_rt_time(run, vip, compound):\n",
    "    if run is None:\n",
    "        log.error(\"Provided run is None\")\n",
    "        return None\n",
    "                          \n",
    "    name = \"\"\n",
    "    if compound:\n",
    "        name += \"compound\"\n",
    "    else:\n",
    "        name += \"simple\"\n",
    "\n",
    "    if vip:\n",
    "        name += \"Vip\"\n",
    "    else:\n",
    "        name += \"Normal\"\n",
    "\n",
    "    name += \"ResponseTime:vector\"\n",
    "    \n",
    "    module = \"Network.exit\"\n",
    "                          \n",
    "    return get_vectime(run, module, name)\n",
    "\n",
    "def get_wt(run, module, vip):\n",
    "    if run is None:\n",
    "        log.error(\"Provided run is None\")\n",
    "        return None\n",
    "                          \n",
    "    name = \"\"\n",
    "\n",
    "    if vip:\n",
    "        name += \"vip\"\n",
    "    else:\n",
    "        name += \"normal\"\n",
    "\n",
    "    name += \"WaitingTime:vector\"\n",
    "    \n",
    "    return get_vecvalue(run, module, name)\n",
    "\n",
    "def get_wt_time(run, module, vip):\n",
    "    if run is None:\n",
    "        log.error(\"Provided run is None\")\n",
    "        return None\n",
    "                          \n",
    "    name = \"\"\n",
    "\n",
    "    if vip:\n",
    "        name += \"vip\"\n",
    "    else:\n",
    "        name += \"normal\"\n",
    "\n",
    "    name += \"WaitingTime:vector\"\n",
    "    \n",
    "    return get_vectime(run, module, name)\n",
    "\n",
    "def get_queue_length(run, module, queue_type):\n",
    "    if run is None:\n",
    "        log.error(\"Provided run is None\")\n",
    "        return None\n",
    "    \n",
    "    name = f\"{queue_type}QueueLength:vector\"\n",
    "    \n",
    "    return get_vecvalue(run, module, name)\n",
    "\n",
    "def get_queue_length_time(run, module, queue_type):\n",
    "    if run is None:\n",
    "        log.error(\"Provided run is None\")\n",
    "        return None\n",
    "    \n",
    "    name = f\"{queue_type}QueueLength:vector\"\n",
    "    \n",
    "    return get_vectime(run, module, name)"
   ]
  },
  {
   "cell_type": "code",
   "execution_count": 8,
   "metadata": {
    "ExecuteTime": {
     "end_time": "2020-01-10T17:22:33.169509Z",
     "start_time": "2020-01-10T17:22:33.163563Z"
    }
   },
   "outputs": [],
   "source": [
    "def moving_average(a, n=3) :\n",
    "    ret = np.cumsum(a, dtype=float)\n",
    "    ret[n:] = ret[n:] - ret[:-n]\n",
    "    ret[n-1:] = ret[n - 1:] / n\n",
    "    ret[:n-1] = ret[:n-1] / np.arange(1,n)\n",
    "    return ret"
   ]
  },
  {
   "cell_type": "code",
   "execution_count": 10,
   "metadata": {
    "ExecuteTime": {
     "end_time": "2020-01-10T17:22:56.361977Z",
     "start_time": "2020-01-10T17:22:48.517220Z"
    }
   },
   "outputs": [
    {
     "data": {
      "image/png": "[encoded data removed]",
      "text/plain": [
       "<Figure size 432x288 with 1 Axes>"
      ]
     },
     "metadata": {
      "needs_background": "light"
     },
     "output_type": "display_data"
    }
   ],
   "source": [
    "runs = find_runs()\n",
    "avgs = []\n",
    "stds = []\n",
    "for run in find_runs():\n",
    "    args = [run, \"Network.cashier\", \"vip\"]\n",
    "    raw = get_queue_length(*args)\n",
    "#     y = moving_average(raw, n=10000)\n",
    "#     y = np.cumsum(raw) / np.arange(1, raw.size+1)\n",
    "    y = raw\n",
    "    x = get_queue_length_time(*args)\n",
    "\n",
    "    plt.plot(x,y)\n"
   ]
  },
  {
   "cell_type": "code",
   "execution_count": 12,
   "metadata": {
    "ExecuteTime": {
     "end_time": "2020-01-10T17:32:03.867189Z",
     "start_time": "2020-01-10T17:32:03.554530Z"
    }
   },
   "outputs": [
    {
     "data": {
      "text/plain": [
       "[<matplotlib.lines.Line2D at 0x7f93474adc10>]"
      ]
     },
     "execution_count": 12,
     "metadata": {},
     "output_type": "execute_result"
    },
    {
     "data": {
      "image/png": "[encoded data removed]",
      "text/plain": [
       "<Figure size 432x288 with 1 Axes>"
      ]
     },
     "metadata": {
      "needs_background": "light"
     },
     "output_type": "display_data"
    }
   ],
   "source": [
    "l = [0.164705882,0.229411765,0.294117647,0.552941176,0.811764706,1.005882353,0.747058824,0.552941176,0.358823529,0.294117647,0.552941176,0.876470588,1.070588235,1.2,1.070588235,0.876470588,0.617647059,0.358823529]\n",
    "plt.step(np.arange(len(l)), l)"
   ]
  },
  {
   "cell_type": "code",
   "execution_count": null,
   "metadata": {},
   "outputs": [],
   "source": []
  }
 ],
 "metadata": {
  "kernelspec": {
   "display_name": "Python 3",
   "language": "python",
   "name": "python3"
  },
  "language_info": {
   "codemirror_mode": {
    "name": "ipython",
    "version": 3
   },
   "file_extension": ".py",
   "mimetype": "text/x-python",
   "name": "python",
   "nbconvert_exporter": "python",
   "pygments_lexer": "ipython3",
   "version": "3.7.5"
  }
 },
 "nbformat": 4,
 "nbformat_minor": 2
}
