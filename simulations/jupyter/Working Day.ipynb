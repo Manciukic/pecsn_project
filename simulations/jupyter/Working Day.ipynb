{
 "cells": [
  {
   "cell_type": "code",
   "execution_count": 1,
   "metadata": {
    "ExecuteTime": {
     "end_time": "2020-01-14T09:19:38.352469Z",
     "start_time": "2020-01-14T09:19:37.295318Z"
    }
   },
   "outputs": [],
   "source": [
    "import pandas as pd\n",
    "import numpy as np\n",
    "import matplotlib.pyplot as plt\n",
    "\n",
    "from matplotlib.ticker import MaxNLocator\n",
    "\n",
    "import os\n",
    "\n",
    "import logging as log\n",
    "\n",
    "import scipy.stats as stats\n",
    "import multiprocessing\n",
    "from joblib import Parallel, delayed\n",
    "\n",
    "num_cores = multiprocessing.cpu_count()\n",
    "\n",
    "%matplotlib inline"
   ]
  },
  {
   "cell_type": "code",
   "execution_count": 2,
   "metadata": {
    "ExecuteTime": {
     "end_time": "2020-01-14T09:19:38.362013Z",
     "start_time": "2020-01-14T09:19:38.355452Z"
    }
   },
   "outputs": [],
   "source": [
    "log.getLogger().setLevel(20)"
   ]
  },
  {
   "cell_type": "code",
   "execution_count": 3,
   "metadata": {
    "ExecuteTime": {
     "end_time": "2020-01-14T09:19:38.370840Z",
     "start_time": "2020-01-14T09:19:38.363687Z"
    }
   },
   "outputs": [],
   "source": [
    "all_params = {}\n",
    "all_runs = None\n",
    "\n",
    "def get_params(run):\n",
    "    result = {}\n",
    "    params = ds[ds.type == \"param\"]\n",
    "    for index, row in params[params.run == run].iterrows():\n",
    "        # Try conversion. If fail, store string\n",
    "        try:\n",
    "            result[row.attrname] = float(row.attrvalue)\n",
    "        except ValueError:\n",
    "            result[row.attrname] = row.attrvalue\n",
    "    return result\n",
    "\n",
    "def build_params(ds):\n",
    "    global all_params, all_runs\n",
    "    \n",
    "    all_params = {}\n",
    "    all_runs = ds.run.unique()\n",
    "    for run in all_runs:       \n",
    "        all_params[run] = get_params(run)"
   ]
  },
  {
   "cell_type": "code",
   "execution_count": 4,
   "metadata": {
    "ExecuteTime": {
     "end_time": "2020-01-14T09:21:24.783601Z",
     "start_time": "2020-01-14T09:19:38.375288Z"
    }
   },
   "outputs": [],
   "source": [
    "run = \"WorkingDayVarying*\"\n",
    "os.system(f\"scavetool x ../results/{run}.sca ../results/{run}.vec -o /tmp/measurements.csv\")\n",
    "ds = pd.read_csv(\"/tmp/measurements.csv\", low_memory=False)\n",
    "build_params(ds)"
   ]
  },
  {
   "cell_type": "code",
   "execution_count": 5,
   "metadata": {
    "ExecuteTime": {
     "end_time": "2020-01-14T09:21:24.795403Z",
     "start_time": "2020-01-14T09:21:24.786128Z"
    }
   },
   "outputs": [],
   "source": [
    "def find_runs(**params):\n",
    "    global ds\n",
    "    \n",
    "    result = []\n",
    "    \n",
    "    for run in all_runs:       \n",
    "        run_params = all_params[run]\n",
    "                \n",
    "        for name, value in params.items():\n",
    "            if type(value) is str:\n",
    "                check_value = '\"'+value+'\"'\n",
    "            else:\n",
    "                check_value = value\n",
    "                \n",
    "            if name not in run_params or run_params[name] != check_value:\n",
    "                log.debug(f\"{run_params} fails {name}, expected {check_value}, found {run_params[name] if name in run_params else 'None'}\")\n",
    "                break\n",
    "        else: # loop was not interrupted \n",
    "            result.append(run)\n",
    "                \n",
    "    return result\n",
    "                          \n",
    "def find_run(**params):\n",
    "    result = find_runs(**params)\n",
    "    if len(result) == 0:\n",
    "        log.warning(\"No run found\")\n",
    "        return None\n",
    "    elif len(result) > 1:\n",
    "        log.warning(\"Provided parameters match multiple runs.\")\n",
    "    \n",
    "    return result[0]\n",
    "   "
   ]
  },
  {
   "cell_type": "code",
   "execution_count": 6,
   "metadata": {
    "ExecuteTime": {
     "end_time": "2020-01-14T09:21:24.812712Z",
     "start_time": "2020-01-14T09:21:24.797363Z"
    }
   },
   "outputs": [],
   "source": [
    "def get_scalar(run, module, name):\n",
    "    strvalue = ds[(ds.type == \"scalar\") & (ds.run == run) & (ds.name == name) & (ds.module == module)].iloc[0].value\n",
    "    try:\n",
    "        return float(strvalue)\n",
    "    except ValueError:\n",
    "        log.warning(\"Scalar is not a number: \" + strvalue)\n",
    "        return strvalue\n",
    "\n",
    "def get_avg_rt(run, vip, compound):\n",
    "    if run is None:\n",
    "        log.error(\"Provided run is None\")\n",
    "        return None\n",
    "                          \n",
    "    name = \"\"\n",
    "    if compound:\n",
    "        name += \"compound\"\n",
    "    else:\n",
    "        name += \"simple\"\n",
    "\n",
    "    if vip:\n",
    "        name += \"Vip\"\n",
    "    else:\n",
    "        name += \"Normal\"\n",
    "\n",
    "    name += \"ResponseTime:mean\"\n",
    "    \n",
    "    module = \"Network.exit\"\n",
    "                          \n",
    "    return get_scalar(run, module, name)\n",
    "\n",
    "def get_avg_wt(run, module, vip):\n",
    "    if run is None:\n",
    "        log.error(\"Provided run is None\")\n",
    "        return None\n",
    "                          \n",
    "    name = \"\"\n",
    "\n",
    "    if vip:\n",
    "        name += \"vip\"\n",
    "    else:\n",
    "        name += \"normal\"\n",
    "\n",
    "    name += \"WaitingTime:mean\"\n",
    "    \n",
    "    return get_scalar(run, module, name)\n",
    "\n",
    "def get_avg_nq(run, module, vip = False, fifo = False):\n",
    "    if run is None:\n",
    "        log.error(\"Provided run is None\")\n",
    "        return None\n",
    "                          \n",
    "    name = \"\"\n",
    "\n",
    "    if fifo:\n",
    "        name += \"fifo\"\n",
    "    elif vip:\n",
    "        name += \"vip\"\n",
    "    else:\n",
    "        name += \"normal\"\n",
    "\n",
    "    name += \"QueueLength:timeavg\"\n",
    "    \n",
    "    return get_scalar(run, module, name)\n",
    "          "
   ]
  },
  {
   "cell_type": "code",
   "execution_count": 7,
   "metadata": {
    "ExecuteTime": {
     "end_time": "2020-01-14T09:21:24.830806Z",
     "start_time": "2020-01-14T09:21:24.814900Z"
    }
   },
   "outputs": [],
   "source": [
    "def get_vecvalue(run, module, name):\n",
    "    try:\n",
    "        return np.fromstring(ds.query(\"type=='vector' and run==@run and name==@name and module==@module\").iloc[0].vecvalue, \n",
    "                             sep=\" \", dtype=np.double)\n",
    "    except Exception:\n",
    "        log.warning(\"No vector found\")\n",
    "        return np.array([])\n",
    "    \n",
    "def get_vectime(run, module, name):\n",
    "    try:\n",
    "        return np.fromstring(ds[(ds.type == \"vector\") & (ds.run == run) & (ds.name == name) & (ds.module == module)].iloc[0].vectime, \n",
    "                             sep=\" \", dtype=np.double)\n",
    "    except Exception:\n",
    "        log.warning(\"No vector found\")\n",
    "        return np.array([])\n",
    "\n",
    "def get_rt(run, vip, compound):\n",
    "    if run is None:\n",
    "        log.error(\"Provided run is None\")\n",
    "        return None\n",
    "                          \n",
    "    name = \"\"\n",
    "    if compound:\n",
    "        name += \"compound\"\n",
    "    else:\n",
    "        name += \"simple\"\n",
    "\n",
    "    if vip:\n",
    "        name += \"Vip\"\n",
    "    else:\n",
    "        name += \"Normal\"\n",
    "\n",
    "    name += \"ResponseTime:vector\"\n",
    "    \n",
    "    module = \"Network.exit\"\n",
    "                          \n",
    "    return get_vecvalue(run, module, name)\n",
    "\n",
    "def get_rt_time(run, vip, compound):\n",
    "    if run is None:\n",
    "        log.error(\"Provided run is None\")\n",
    "        return None\n",
    "                          \n",
    "    name = \"\"\n",
    "    if compound:\n",
    "        name += \"compound\"\n",
    "    else:\n",
    "        name += \"simple\"\n",
    "\n",
    "    if vip:\n",
    "        name += \"Vip\"\n",
    "    else:\n",
    "        name += \"Normal\"\n",
    "\n",
    "    name += \"ResponseTime:vector\"\n",
    "    \n",
    "    module = \"Network.exit\"\n",
    "                          \n",
    "    return get_vectime(run, module, name)\n",
    "\n",
    "def get_wt(run, module, vip):\n",
    "    if run is None:\n",
    "        log.error(\"Provided run is None\")\n",
    "        return None\n",
    "                          \n",
    "    name = \"\"\n",
    "\n",
    "    if vip:\n",
    "        name += \"vip\"\n",
    "    else:\n",
    "        name += \"normal\"\n",
    "\n",
    "    name += \"WaitingTime:vector\"\n",
    "    \n",
    "    return get_vecvalue(run, module, name)\n",
    "\n",
    "def get_wt_time(run, module, vip):\n",
    "    if run is None:\n",
    "        log.error(\"Provided run is None\")\n",
    "        return None\n",
    "                          \n",
    "    name = \"\"\n",
    "\n",
    "    if vip:\n",
    "        name += \"vip\"\n",
    "    else:\n",
    "        name += \"normal\"\n",
    "\n",
    "    name += \"WaitingTime:vector\"\n",
    "    \n",
    "    return get_vectime(run, module, name)"
   ]
  },
  {
   "cell_type": "code",
   "execution_count": 8,
   "metadata": {
    "ExecuteTime": {
     "end_time": "2020-01-14T09:21:24.841135Z",
     "start_time": "2020-01-14T09:21:24.832921Z"
    }
   },
   "outputs": [],
   "source": [
    "def hol_wait_time(vip, normArrivalRate, vipArrivalRate, serviceRate):\n",
    "    if not vip:\n",
    "        return ((normArrivalRate + vipArrivalRate)/((serviceRate-vipArrivalRate)*(serviceRate-normArrivalRate-vipArrivalRate)))\n",
    "    else:\n",
    "        return ((normArrivalRate + vipArrivalRate)/(serviceRate*(serviceRate-vipArrivalRate)))\n",
    "    \n",
    "def hol_resp_time(vip, normArrivalRate, vipArrivalRate, serviceRate):\n",
    "    return hol_wait_time(vip, normArrivalRate, vipArrivalRate, serviceRate) + 1 / serviceRate"
   ]
  },
  {
   "cell_type": "code",
   "execution_count": 9,
   "metadata": {
    "ExecuteTime": {
     "end_time": "2020-01-14T09:21:24.848884Z",
     "start_time": "2020-01-14T09:21:24.843697Z"
    }
   },
   "outputs": [],
   "source": [
    "def mm1_resp_time(arrivalRate, serviceRate):\n",
    "    return 1/(serviceRate - arrivalRate)\n",
    "\n",
    "def mm1_wait_time(arrivalRate, serviceRate):\n",
    "    return mm1_resp_time(arrivalRate, serviceRate) - 1/serviceRate\n",
    "\n",
    "def mm1_queue_length(arrivalRate, serviceRate):\n",
    "    rho = arrivalRate/serviceRate\n",
    "    return rho/(1-rho)-rho"
   ]
  },
  {
   "cell_type": "code",
   "execution_count": 10,
   "metadata": {
    "ExecuteTime": {
     "end_time": "2020-01-14T09:21:24.856626Z",
     "start_time": "2020-01-14T09:21:24.851354Z"
    }
   },
   "outputs": [],
   "source": [
    "def moving_average(a, n=3) :\n",
    "    ret = np.cumsum(a, dtype=float)\n",
    "    ret[n:] = ret[n:] - ret[:-n]\n",
    "    ret[n-1:] = ret[n - 1:] / n\n",
    "    ret[:n-1] = ret[:n-1] / np.arange(1,n)\n",
    "    return ret"
   ]
  },
  {
   "cell_type": "code",
   "execution_count": 11,
   "metadata": {
    "ExecuteTime": {
     "end_time": "2020-01-14T09:21:24.864139Z",
     "start_time": "2020-01-14T09:21:24.858767Z"
    }
   },
   "outputs": [],
   "source": [
    "def hourly_average(runs):\n",
    "    lines = []\n",
    "    for run in runs:\n",
    "        line = []\n",
    "        args = [run, vip, compound]\n",
    "        rt = get_rt(*args)\n",
    "        st = get_rt_time(*args)\n",
    "        for i in range(18):\n",
    "            mask = np.logical_and(st >= 60*i, st < 60*(i+1))\n",
    "            line.append(np.mean(rt[mask]))\n",
    "        lines.append(line)\n",
    "    return lines"
   ]
  },
  {
   "cell_type": "code",
   "execution_count": 28,
   "metadata": {
    "ExecuteTime": {
     "end_time": "2020-01-14T09:46:57.886641Z",
     "start_time": "2020-01-14T09:46:05.890389Z"
    },
    "scrolled": false
   },
   "outputs": [
    {
     "data": {
      "image/png": "[encoded data removed]",
      "text/plain": [
       "<Figure size 432x288 with 1 Axes>"
      ]
     },
     "metadata": {
      "needs_background": "light"
     },
     "output_type": "display_data"
    }
   ],
   "source": [
    "plt.figure(figsize=(6,4))\n",
    "compound = False\n",
    "cashier_rate = 1.5\n",
    "runs = find_runs(**{\"**.cashier.rate\": cashier_rate, \"**.customerSpawn.normalRate\": 1.1})\n",
    "\n",
    "for vip in [True, False]:\n",
    "    lines = []\n",
    "    for i_run, run in enumerate(runs):\n",
    "        line = []\n",
    "        args = [run, vip, compound]\n",
    "        rt = get_rt(*args)\n",
    "        st = get_rt_time(*args)\n",
    "        for i in range(18):\n",
    "            mask = np.logical_and(st >= 60*i, st < 60*(i+1))\n",
    "#                 if not np.any(mask):\n",
    "#                     print(vip, i_run, i, \"NO POINTS\")\n",
    "            line.append(np.mean(rt[mask]))\n",
    "        lines.append(line)\n",
    "    arr = np.array(lines)\n",
    "    means = np.nanmean(arr, axis=0)\n",
    "    yerrs = []\n",
    "    for i in range(18):\n",
    "        arr_col = arr[:,i]\n",
    "        arr_col_not_nan = arr_col[~np.isnan(arr_col)]\n",
    "        interval = stats.t.interval(0.95, len(arr_col_not_nan)-1, loc=means[i], scale=stats.sem(arr_col_not_nan))\n",
    "        yerrs.append(interval[1] - means[i])\n",
    "    plt.errorbar(np.arange(0, 18)+5.5, means, fmt=\"C0-\" if vip else \"C1-\", yerr=yerrs, label=(\"VIP\" if vip else \"normal\")+\" mean\")\n",
    "        \n",
    "for vip in [True, False]:\n",
    "    lines = []\n",
    "    for i_run, run in enumerate(runs):\n",
    "        line = []\n",
    "        args = [run, vip, compound]\n",
    "        rt = get_rt(*args)\n",
    "        st = get_rt_time(*args)\n",
    "        for i in range(18):\n",
    "            mask = np.logical_and(st >= 60*i, st < 60*(i+1))\n",
    "            if np.any(mask):\n",
    "                line.append(np.percentile(rt[mask], 90))\n",
    "            else:\n",
    "                line.append(np.nan)\n",
    "        lines.append(line)\n",
    "    arr = np.array(lines)\n",
    "    means = np.nanmean(arr, axis=0)\n",
    "    yerrs = []\n",
    "    for i in range(18):\n",
    "        arr_col = arr[:,i]\n",
    "        arr_col_not_nan = arr_col[~np.isnan(arr_col)]\n",
    "        interval = stats.t.interval(0.95, len(arr_col_not_nan)-1, loc=means[i], scale=stats.sem(arr_col_not_nan))\n",
    "        yerrs.append(interval[1] - means[i])\n",
    "    plt.errorbar(np.arange(0, 18)+5.5, means, fmt=\"C0--\" if vip else \"C1--\", yerr=yerrs, label=(\"VIP\" if vip else \"normal\")+\" $90^{th}$ perc.\")\n",
    "\n",
    "plt.grid(True, 'both')\n",
    "plt.xticks(np.arange(0, 19)+6)\n",
    "plt.ylabel(\"Response time (m)\")\n",
    "plt.xlabel(\"Hour of the day\")\n",
    "plt.legend()\n",
    "plt.savefig(\"/tmp/vip_vs_normal_%s.pdf\" % ('compound' if compound else 'simple'), bbox_inches='tight')"
   ]
  },
  {
   "cell_type": "code",
   "execution_count": 39,
   "metadata": {
    "ExecuteTime": {
     "end_time": "2020-01-14T09:58:32.644129Z",
     "start_time": "2020-01-14T09:57:43.307259Z"
    }
   },
   "outputs": [
    {
     "name": "stdout",
     "output_type": "stream",
     "text": [
      "1.3\n",
      "1.4\n",
      "1.5\n",
      "1.6\n",
      "1.7\n",
      "1.8\n"
     ]
    },
    {
     "data": {
      "image/png": "[encoded data removed]",
      "text/plain": [
       "<Figure size 432x288 with 1 Axes>"
      ]
     },
     "metadata": {
      "needs_background": "light"
     },
     "output_type": "display_data"
    }
   ],
   "source": [
    "plt.figure(figsize=(6,4))\n",
    "for cashier_rate in [1.3, 1.4, 1.5, 1.6, 1.7, 1.8]:\n",
    "    print(cashier_rate)\n",
    "    runs = find_runs(**{\"**.cashier.rate\": cashier_rate, \"**.customerSpawn.normalRate\": 1.1})\n",
    "    data = []\n",
    "    compound = False\n",
    "    vip = False\n",
    "    lines = []\n",
    "    for i_run, run in enumerate(runs):\n",
    "        line = []\n",
    "        args = [run, vip, compound]\n",
    "        rt = get_rt(*args)\n",
    "        st = get_rt_time(*args)\n",
    "        for i in range(18):\n",
    "            mask = np.logical_and(st >= 60*i, st < 60*(i+1))\n",
    "#                 if not np.any(mask):\n",
    "#                     print(vip, i_run, i, \"NO POINTS\")\n",
    "            line.append(np.mean(rt[mask]))\n",
    "        lines.append(line)\n",
    "    arr = np.array(lines)\n",
    "    means = np.nanmean(arr, axis=0)\n",
    "    yerrs = []\n",
    "    for i in range(18):\n",
    "        arr_col = arr[:,i]\n",
    "        arr_col_not_nan = arr_col[~np.isnan(arr_col)]\n",
    "        interval = stats.t.interval(0.95, len(arr_col_not_nan)-1, loc=means[i], scale=stats.sem(arr_col_not_nan))\n",
    "        yerrs.append(interval[1] - means[i])\n",
    "    plt.errorbar(np.arange(0, 18)+5.5, means, yerr=yerrs, label=f\"$\\\\mu_{{cashier}} = {cashier_rate:.1f}$\")\n",
    "plt.grid(True, 'both')\n",
    "plt.xticks(np.arange(0, 19)+6)\n",
    "plt.ylabel(\"Response time (m)\")\n",
    "plt.xlabel(\"Hour of the day\")\n",
    "plt.legend()\n",
    "plt.savefig('/tmp/varying_cashier_rate.pdf', bbox_inches='tight')"
   ]
  },
  {
   "cell_type": "code",
   "execution_count": 38,
   "metadata": {
    "ExecuteTime": {
     "end_time": "2020-01-14T09:54:02.338062Z",
     "start_time": "2020-01-14T09:53:29.496374Z"
    }
   },
   "outputs": [
    {
     "name": "stdout",
     "output_type": "stream",
     "text": [
      "1\n",
      "1.1\n",
      "1.2\n",
      "1.3\n"
     ]
    },
    {
     "data": {
      "image/png": "[encoded data removed]",
      "text/plain": [
       "<Figure size 432x288 with 1 Axes>"
      ]
     },
     "metadata": {
      "needs_background": "light"
     },
     "output_type": "display_data"
    }
   ],
   "source": [
    "plt.figure(figsize=(6,4))\n",
    "for normal_rate in [1, 1.1, 1.2, 1.3]:\n",
    "    print(normal_rate)\n",
    "    runs = find_runs(**{\"**.cashier.rate\": 1.5, \"**.customerSpawn.normalRate\": normal_rate})\n",
    "    data = []\n",
    "    compound = False\n",
    "    vip = False\n",
    "    lines = []\n",
    "    for i_run, run in enumerate(runs):\n",
    "        line = []\n",
    "        args = [run, vip, compound]\n",
    "        rt = get_rt(*args)\n",
    "        st = get_rt_time(*args)\n",
    "        for i in range(18):\n",
    "            mask = np.logical_and(st >= 60*i, st < 60*(i+1))\n",
    "#                 if not np.any(mask):\n",
    "#                     print(vip, i_run, i, \"NO POINTS\")\n",
    "            line.append(np.mean(rt[mask]))\n",
    "        lines.append(line)\n",
    "    arr = np.array(lines)\n",
    "    means = np.nanmean(arr, axis=0)\n",
    "    yerrs = []\n",
    "    for i in range(18):\n",
    "        arr_col = arr[:,i]\n",
    "        arr_col_not_nan = arr_col[~np.isnan(arr_col)]\n",
    "        interval = stats.t.interval(0.95, len(arr_col_not_nan)-1, loc=means[i], scale=stats.sem(arr_col_not_nan))\n",
    "        yerrs.append(interval[1] - means[i])\n",
    "    plt.errorbar(np.arange(0, 18)+5.5, means, yerr=yerrs, label=f\"$\\\\lambda_{{tot,max}} = {normal_rate/0.8*1.2:.3f}$\")\n",
    "plt.grid(True, 'both')\n",
    "plt.legend()\n",
    "plt.xticks(np.arange(0, 19)+6)\n",
    "plt.ylabel(\"Response time (m)\")\n",
    "plt.xlabel(\"Hour of the day\")\n",
    "plt.savefig('/tmp/varying_arrival_rate.pdf', bbox_inches='tight')"
   ]
  },
  {
   "cell_type": "code",
   "execution_count": 44,
   "metadata": {
    "ExecuteTime": {
     "end_time": "2020-01-14T12:43:54.407155Z",
     "start_time": "2020-01-14T12:43:53.719697Z"
    },
    "scrolled": false
   },
   "outputs": [
    {
     "data": {
      "image/png": "[encoded data removed]",
      "text/plain": [
       "<Figure size 432x288 with 1 Axes>"
      ]
     },
     "metadata": {
      "needs_background": "light"
     },
     "output_type": "display_data"
    }
   ],
   "source": [
    "plt.figure(figsize=(6,4))\n",
    "plt.grid(True, 'major', 'y')\n",
    "plt.ylabel(\"Multiplier\")\n",
    "plt.xlabel(\"Hour of the day\")\n",
    "plt.xticks(np.arange(0, 19)+6)\n",
    "plt.bar(np.arange(6, 24)+.5, [0.164705882,0.229411765,0.294117647,0.552941176,0.811764706,1.005882353,0.747058824,0.552941176,0.358823529,0.294117647,0.552941176,0.876470588,1.070588235,1.2,1.070588235,0.876470588,0.617647059,0.358823529])\n",
    "plt.savefig('/tmp/input_bd.pdf', bbox_inches='tight')"
   ]
  },
  {
   "cell_type": "code",
   "execution_count": 36,
   "metadata": {
    "ExecuteTime": {
     "end_time": "2020-01-14T09:52:22.607448Z",
     "start_time": "2020-01-14T09:52:22.602674Z"
    }
   },
   "outputs": [
    {
     "name": "stdout",
     "output_type": "stream",
     "text": [
      "Help on function grid in module matplotlib.pyplot:\n",
      "\n",
      "grid(b=None, which='major', axis='both', **kwargs)\n",
      "    Configure the grid lines.\n",
      "    \n",
      "    Parameters\n",
      "    ----------\n",
      "    b : bool or None\n",
      "        Whether to show the grid lines. If any *kwargs* are supplied,\n",
      "        it is assumed you want the grid on and *b* will be set to True.\n",
      "    \n",
      "        If *b* is *None* and there are no *kwargs*, this toggles the\n",
      "        visibility of the lines.\n",
      "    \n",
      "    which : {'major', 'minor', 'both'}\n",
      "        The grid lines to apply the changes on.\n",
      "    \n",
      "    axis : {'both', 'x', 'y'}\n",
      "        The axis to apply the changes on.\n",
      "    \n",
      "    **kwargs : `.Line2D` properties\n",
      "        Define the line properties of the grid, e.g.::\n",
      "    \n",
      "            grid(color='r', linestyle='-', linewidth=2)\n",
      "    \n",
      "        Valid *kwargs* are\n",
      "    \n",
      "          agg_filter: a filter function, which takes a (m, n, 3) float array and a dpi value, and returns a (m, n, 3) array \n",
      "      alpha: float\n",
      "      animated: bool\n",
      "      antialiased: bool\n",
      "      clip_box: `.Bbox`\n",
      "      clip_on: bool\n",
      "      clip_path: [(`~matplotlib.path.Path`, `.Transform`) | `.Patch` | None] \n",
      "      color: color\n",
      "      contains: callable\n",
      "      dash_capstyle: {'butt', 'round', 'projecting'}\n",
      "      dash_joinstyle: {'miter', 'round', 'bevel'}\n",
      "      dashes: sequence of floats (on/off ink in points) or (None, None)\n",
      "      drawstyle: {'default', 'steps', 'steps-pre', 'steps-mid', 'steps-post'}\n",
      "      figure: `.Figure`\n",
      "      fillstyle: {'full', 'left', 'right', 'bottom', 'top', 'none'}\n",
      "      gid: str\n",
      "      in_layout: bool\n",
      "      label: object\n",
      "      linestyle: {'-', '--', '-.', ':', '', (offset, on-off-seq), ...}\n",
      "      linewidth: float\n",
      "      marker: unknown\n",
      "      markeredgecolor: color\n",
      "      markeredgewidth: float\n",
      "      markerfacecolor: color\n",
      "      markerfacecoloralt: color\n",
      "      markersize: float\n",
      "      markevery: unknown\n",
      "      path_effects: `.AbstractPathEffect`\n",
      "      picker: float or callable[[Artist, Event], Tuple[bool, dict]]\n",
      "      pickradius: float\n",
      "      rasterized: bool or None\n",
      "      sketch_params: (scale: float, length: float, randomness: float) \n",
      "      snap: bool or None\n",
      "      solid_capstyle: {'butt', 'round', 'projecting'}\n",
      "      solid_joinstyle: {'miter', 'round', 'bevel'}\n",
      "      transform: matplotlib.transforms.Transform\n",
      "      url: str\n",
      "      visible: bool\n",
      "      xdata: 1D array\n",
      "      ydata: 1D array\n",
      "      zorder: float\n",
      "    \n",
      "    Notes\n",
      "    -----\n",
      "    The grid will be drawn according to the axes' zorder and not its own.\n",
      "\n"
     ]
    }
   ],
   "source": []
  },
  {
   "cell_type": "code",
   "execution_count": null,
   "metadata": {},
   "outputs": [],
   "source": []
  }
 ],
 "metadata": {
  "kernelspec": {
   "display_name": "Python 3",
   "language": "python",
   "name": "python3"
  },
  "language_info": {
   "codemirror_mode": {
    "name": "ipython",
    "version": 3
   },
   "file_extension": ".py",
   "mimetype": "text/x-python",
   "name": "python",
   "nbconvert_exporter": "python",
   "pygments_lexer": "ipython3",
   "version": "3.7.5"
  }
 },
 "nbformat": 4,
 "nbformat_minor": 2
}
